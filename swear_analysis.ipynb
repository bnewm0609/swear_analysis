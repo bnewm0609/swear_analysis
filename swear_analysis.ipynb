{
 "cells": [
  {
   "cell_type": "code",
   "execution_count": 4,
   "metadata": {},
   "outputs": [
    {
     "name": "stdout",
     "output_type": "stream",
     "text": [
      "loading glove42\n",
      "loading twitter25\n",
      "loading twitter50\n",
      "loading twitter100\n",
      "loading twitter200\n"
     ]
    }
   ],
   "source": [
    "import numpy as np\n",
    "import pandas as pd\n",
    "import matplotlib as plot\n",
    "from gensim.models import KeyedVectors\n",
    "\n",
    "\n",
    "MODEL_PATH = \"models/\"\n",
    "\n",
    "#load the models into RAM (at the same time should work...)\n",
    "print(\"loading glove42\")\n",
    "glove42 = KeyedVectors.load('%sgolve.42B.300d.model'%MODEL_PATH)\n",
    "print(\"loading twitter25\")\n",
    "twitter25 = KeyedVectors.load('%sgolve.twitter.27B.25d.model'%MODEL_PATH)\n",
    "print(\"loading twitter50\")\n",
    "twitter50 = KeyedVectors.load('%sgolve.twitter.27B.50d.model'%MODEL_PATH)\n",
    "print(\"loading twitter100\")\n",
    "twitter100 = KeyedVectors.load('%sgolve.twitter.27B.100d.model'%MODEL_PATH)\n",
    "print(\"loading twitter200\")\n",
    "twitter200 = KeyedVectors.load('%sgolve.twitter.27B.200d.model'%MODEL_PATH)"
   ]
  },
  {
   "cell_type": "code",
   "execution_count": 6,
   "metadata": {
    "collapsed": true
   },
   "outputs": [],
   "source": [
    "def print_closest_words(vectors, targets):\n",
    "     for t in targets:\n",
    "         print(\"'%s':\"%t)\n",
    "         closest = vectors.most_similar(t)\n",
    "         for c in closest:\n",
    "             print(\"\\t%s : %f\" %(c[0], c[1]))\n",
    "\n",
    "targets = [\"fuck\", \"damn\", \"god\", \"friggin\", \"darn\", \"gosh\"]"
   ]
  },
  {
   "cell_type": "code",
   "execution_count": 7,
   "metadata": {},
   "outputs": [
    {
     "name": "stdout",
     "output_type": "stream",
     "text": [
      "'fuck':\n",
      "\tfucking : 0.890085\n",
      "\tass : 0.801807\n",
      "\tfucked : 0.786498\n",
      "\tsuck : 0.774119\n",
      "\tbitch : 0.760884\n",
      "\tpussy : 0.754305\n",
      "\tshit : 0.747851\n",
      "\tfucks : 0.747322\n",
      "\tslut : 0.715903\n",
      "\thorny : 0.711789\n",
      "'damn':\n",
      "\tfreaking : 0.808849\n",
      "\tthats : 0.804998\n",
      "\tdarn : 0.804346\n",
      "\tshit : 0.795101\n",
      "\tyeah : 0.795060\n",
      "\tstupid : 0.783023\n",
      "\tcuz : 0.771624\n",
      "\tfreakin : 0.769442\n",
      "\tlol : 0.767663\n",
      "\tfuckin : 0.764639\n",
      "'god':\n",
      "\tchrist : 0.806945\n",
      "\tjesus : 0.797688\n",
      "\tlord : 0.756466\n",
      "\theaven : 0.736455\n",
      "\tgods : 0.725088\n",
      "\talmighty : 0.721813\n",
      "\tfaith : 0.719083\n",
      "\tholy : 0.708875\n",
      "\tpray : 0.704659\n",
      "\tdivine : 0.703510\n",
      "'frick':\n",
      "\tbrauer : 0.446545\n",
      "\tfrack : 0.429506\n",
      "\tguggenheim : 0.373678\n",
      "\theinz : 0.366111\n",
      "\tmellon : 0.363646\n",
      "\tkemper : 0.360802\n",
      "\tcarnegie : 0.356722\n",
      "\tcoan : 0.350960\n",
      "\tmuseum : 0.350805\n",
      "\tfarnsworth : 0.341526\n",
      "'darn':\n",
      "\tdarned : 0.842314\n",
      "\tdamn : 0.804346\n",
      "\tfreaking : 0.729577\n",
      "\tdang : 0.713294\n",
      "\tsoooo : 0.701573\n",
      "\tfreakin : 0.696519\n",
      "\tfriggin : 0.693939\n",
      "\tpretty : 0.683317\n",
      "\tawfully : 0.679518\n",
      "\tsooo : 0.671035\n",
      "'gosh':\n",
      "\tgeez : 0.719487\n",
      "\tjeez : 0.699260\n",
      "\tgawd : 0.699108\n",
      "\tomg : 0.695261\n",
      "\tohh : 0.679617\n",
      "\tohhh : 0.679269\n",
      "\tahhh : 0.670573\n",
      "\tahh : 0.666299\n",
      "\tdarn : 0.657141\n",
      "\tugh : 0.656292\n"
     ]
    }
   ],
   "source": [
    "print_closest_words(glove42, targets)"
   ]
  },
  {
   "cell_type": "code",
   "execution_count": 9,
   "metadata": {},
   "outputs": [
    {
     "name": "stdout",
     "output_type": "stream",
     "text": [
      "'fuck':\n",
      "\tshit : 0.975124\n",
      "\thell : 0.960364\n",
      "\tdamn : 0.955875\n",
      "\tbitch : 0.955406\n",
      "\tdude : 0.951955\n",
      "\tsmh : 0.942909\n",
      "\tlmao : 0.941495\n",
      "\tthats : 0.941091\n",
      "\tcause : 0.939942\n",
      "\tbad : 0.936998\n",
      "'damn':\n",
      "\tshit : 0.969590\n",
      "\thell : 0.967255\n",
      "\tdude : 0.958074\n",
      "\tthats : 0.956937\n",
      "\tfuck : 0.955875\n",
      "\tfuckin : 0.952355\n",
      "\tmad : 0.951902\n",
      "\tbad : 0.946971\n",
      "\tfucking : 0.943955\n",
      "\tlike : 0.941989\n",
      "'god':\n",
      "\tlord : 0.945264\n",
      "\tlife : 0.922650\n",
      "\ttrue : 0.921773\n",
      "\trest : 0.915424\n",
      "\tforget : 0.914680\n",
      "\tmeans : 0.907882\n",
      "\tit : 0.906304\n",
      "\tnever : 0.905784\n",
      "\tremember : 0.905605\n",
      "\twhat : 0.904669\n",
      "'frick':\n",
      "\tlordy : 0.889460\n",
      "\tpahaha : 0.880130\n",
      "\tjheez : 0.875569\n",
      "\tpahahaha : 0.874996\n",
      "\tfrig : 0.873169\n",
      "\tlooooooooool : 0.870447\n",
      "\tdayumm : 0.870237\n",
      "\tdammn : 0.869075\n",
      "\tbetcha : 0.867702\n",
      "\tdaaamn : 0.866274\n",
      "'darn':\n",
      "\tfriggin : 0.945871\n",
      "\teffing : 0.932937\n",
      "\tfricken : 0.915874\n",
      "\tfrickin : 0.913544\n",
      "\tfreakin : 0.894171\n",
      "\tfricking : 0.881680\n",
      "\teffin : 0.880853\n",
      "\tjeez : 0.871655\n",
      "\tfrigging : 0.870890\n",
      "\tgoddamn : 0.866052\n",
      "'gosh':\n",
      "\twoah : 0.951295\n",
      "\tyep : 0.936377\n",
      "\tlolol : 0.934841\n",
      "\talright : 0.932756\n",
      "\tlololol : 0.930286\n",
      "\tugh : 0.929353\n",
      "\tomfg : 0.926849\n",
      "\tsrsly : 0.923945\n",
      "\theck : 0.921380\n",
      "\tomg : 0.921231\n"
     ]
    }
   ],
   "source": [
    "print_closest_words(twitter25, targets)"
   ]
  },
  {
   "cell_type": "code",
   "execution_count": 11,
   "metadata": {},
   "outputs": [
    {
     "name": "stdout",
     "output_type": "stream",
     "text": [
      "'fuck':\n",
      "\tshit : 0.884610\n",
      "\thell : 0.840813\n",
      "\tbitch : 0.831233\n",
      "\tfucking : 0.830012\n",
      "\tdamn : 0.826227\n",
      "\twtf : 0.819603\n",
      "\tfuckin : 0.791408\n",
      "\tn't : 0.790107\n",
      "\tthat : 0.788328\n",
      "\tnigga : 0.784458\n",
      "'damn':\n",
      "\tshit : 0.855683\n",
      "\tfuckin : 0.832268\n",
      "\tfuck : 0.826227\n",
      "\tsmh : 0.817285\n",
      "\thell : 0.815009\n",
      "\tfucking : 0.811158\n",
      "\tlmao : 0.806080\n",
      "\tthat : 0.800900\n",
      "\twhy : 0.800019\n",
      "\tthats : 0.797936\n",
      "'god':\n",
      "\tlord : 0.851451\n",
      "\tjesus : 0.793370\n",
      "\tbless : 0.783336\n",
      "\tchrist : 0.748248\n",
      "\tthank : 0.728486\n",
      "\tgods : 0.712267\n",
      "\tlife : 0.707067\n",
      "\tpraise : 0.692849\n",
      "\tholy : 0.691865\n",
      "\tyou : 0.689168\n",
      "'frick':\n",
      "\tfrack : 0.661508\n",
      "\theck : 0.631302\n",
      "\tfuuuuck : 0.615577\n",
      "\tfrig : 0.612536\n",
      "\tfuuuuuck : 0.610375\n",
      "\tfucj : 0.599739\n",
      "\tfuq : 0.599668\n",
      "\tfuuuuuuck : 0.599290\n",
      "\tfuuck : 0.590608\n",
      "\tfuuuck : 0.587006\n",
      "'darn':\n",
      "\tfreakin : 0.743486\n",
      "\tfriggin : 0.722513\n",
      "\tfreaking : 0.713743\n",
      "\tgosh : 0.705851\n",
      "\teffing : 0.700326\n",
      "\tgoddamn : 0.690690\n",
      "\tfricken : 0.682505\n",
      "\teffin : 0.678194\n",
      "\tdamn : 0.665144\n",
      "\tdammit : 0.663934\n",
      "'gosh':\n",
      "\tomg : 0.846523\n",
      "\tomfg : 0.842340\n",
      "\tugh : 0.816337\n",
      "\tohmygod : 0.797765\n",
      "\tjeez : 0.780575\n",
      "\tseriously : 0.774652\n",
      "\tfreaking : 0.771004\n",
      "\toh : 0.764933\n",
      "\tsrsly : 0.763328\n",
      "\tomgg : 0.755181\n"
     ]
    }
   ],
   "source": [
    "print_closest_words(twitter200, targets)"
   ]
  },
  {
   "cell_type": "code",
   "execution_count": 12,
   "metadata": {},
   "outputs": [
    {
     "name": "stdout",
     "output_type": "stream",
     "text": [
      "'hell':\n",
      "\tshit : 0.740012\n",
      "\tdamn : 0.717443\n",
      "\theck : 0.717442\n",
      "\tyeah : 0.700502\n",
      "\tcrap : 0.690306\n",
      "\tgonna : 0.688813\n",
      "\tthing : 0.679486\n",
      "\theaven : 0.674648\n",
      "\tthats : 0.665746\n",
      "\tnothing : 0.664930\n",
      "'heck':\n",
      "\tyeah : 0.749803\n",
      "\thell : 0.717442\n",
      "\tdamn : 0.717155\n",
      "\tmaybe : 0.715949\n",
      "\tanyway : 0.710780\n",
      "\tguess : 0.709965\n",
      "\tthing : 0.700194\n",
      "\tthink : 0.699303\n",
      "\tthats : 0.699044\n",
      "\twondering : 0.691883\n"
     ]
    }
   ],
   "source": [
    "print_closest_words(glove42, [\"hell\", \"heck\"])"
   ]
  },
  {
   "cell_type": "code",
   "execution_count": 17,
   "metadata": {},
   "outputs": [
    {
     "name": "stdout",
     "output_type": "stream",
     "text": [
      "'hell':\n",
      "\tfuck : 0.892844\n",
      "\tdamn : 0.887986\n",
      "\tshit : 0.874914\n",
      "\tdude : 0.843820\n",
      "\theck : 0.843176\n",
      "\tright : 0.842603\n",
      "\tyeah : 0.841898\n",
      "\tthats : 0.835837\n",
      "\tcuz : 0.831955\n",
      "\tyea : 0.829304\n",
      "'heck':\n",
      "\thell : 0.843176\n",
      "\twth : 0.805543\n",
      "\tjeez : 0.795760\n",
      "\tgosh : 0.787710\n",
      "\tdammit : 0.775127\n",
      "\twoah : 0.771927\n",
      "\tdamn : 0.771609\n",
      "\tkidding : 0.764851\n",
      "\tcrap : 0.760309\n",
      "\tyeah : 0.758994\n"
     ]
    }
   ],
   "source": [
    "print_closest_words(twitter100, [\"hell\", \"heck\"])"
   ]
  },
  {
   "cell_type": "code",
   "execution_count": null,
   "metadata": {
    "collapsed": true
   },
   "outputs": [],
   "source": []
  }
 ],
 "metadata": {
  "kernelspec": {
   "display_name": "Python 3",
   "language": "python",
   "name": "python3"
  },
  "language_info": {
   "codemirror_mode": {
    "name": "ipython",
    "version": 3
   },
   "file_extension": ".py",
   "mimetype": "text/x-python",
   "name": "python",
   "nbconvert_exporter": "python",
   "pygments_lexer": "ipython3",
   "version": "3.6.1"
  }
 },
 "nbformat": 4,
 "nbformat_minor": 2
}
